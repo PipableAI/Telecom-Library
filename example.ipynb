{
 "cells": [
  {
   "cell_type": "code",
   "execution_count": 1,
   "metadata": {},
   "outputs": [],
   "source": [
    "%load_ext dotenv"
   ]
  },
  {
   "cell_type": "code",
   "execution_count": 2,
   "metadata": {},
   "outputs": [],
   "source": [
    "from telecom_library import *"
   ]
  },
  {
   "cell_type": "code",
   "execution_count": 3,
   "metadata": {},
   "outputs": [
    {
     "name": "stdout",
     "output_type": "stream",
     "text": [
      "['INC0010003']\n"
     ]
    }
   ],
   "source": [
    "res = fetch_assigned_incidents()\n",
    "print(res)"
   ]
  },
  {
   "cell_type": "code",
   "execution_count": 4,
   "metadata": {},
   "outputs": [
    {
     "name": "stdout",
     "output_type": "stream",
     "text": [
      "Connected to the database.\n",
      "Disconnected from the database.\n",
      "Connected to the database.\n",
      "Disconnected from the database.\n",
      "Connected to the database.\n",
      "Disconnected from the database.\n",
      "Connected to the database.\n",
      "Disconnected from the database.\n",
      "Baseband change observed at site 14883_Lala_Land_Hilltop 1 days ago.\n",
      "Config management profile does not match expected profile.\n",
      "Expected: 7890123456.prf\n",
      "Found: 7890123455.prf\n"
     ]
    }
   ],
   "source": [
    "res = analyze_incident(incident_id=\"INC0010003\")\n",
    "print(res)"
   ]
  },
  {
   "cell_type": "code",
   "execution_count": 5,
   "metadata": {},
   "outputs": [
    {
     "name": "stdout",
     "output_type": "stream",
     "text": [
      "Connected to the database.\n",
      "Disconnected from the database.\n",
      "[{'site_id': '14881_Lala_Land_River', 'baseband_serial': 'ABC123XYZ789456P', 'baseband_type': 'DUX3423', 'cm_profile': '1234567890.prf', 'site_manager': 'A1'}]\n"
     ]
    }
   ],
   "source": [
    "res = get_site_inventory_for_site_id(site_id=\"14881_Lala_Land_River\")\n",
    "print(res)"
   ]
  },
  {
   "cell_type": "code",
   "execution_count": 6,
   "metadata": {},
   "outputs": [
    {
     "name": "stdout",
     "output_type": "stream",
     "text": [
      "Connected to the database.\n",
      "Disconnected from the database.\n",
      "U05TYQ9D17S\n"
     ]
    }
   ],
   "source": [
    "res = get_slack_channel_id_for_site_manager(site_id='14883_Lala_Land_Hilltop')\n",
    "print(res)"
   ]
  },
  {
   "cell_type": "code",
   "execution_count": 7,
   "metadata": {},
   "outputs": [
    {
     "name": "stdout",
     "output_type": "stream",
     "text": [
      "Message sent successfully to channel/user U05TYQ9D17S: Hello\n"
     ]
    }
   ],
   "source": [
    "res = send_slack_message(channel_id='U05TYQ9D17S', message=\"Hello\")\n",
    "print(res)"
   ]
  },
  {
   "cell_type": "code",
   "execution_count": 8,
   "metadata": {},
   "outputs": [
    {
     "name": "stdout",
     "output_type": "stream",
     "text": [
      "Connected to the database.\n",
      "Disconnected from the database.\n",
      "\n",
      "        **Report filed for incident INC0010003**\n",
      "        - **Event Timestamp:** 2024-01-16 12:30:00\n",
      "        - **Event Detail:** Baseband replacement\n",
      "        - **Site ID:** 14883_Lala_Land_Hilltop\n",
      "        - **Baseband Serial:** JKL012XYZ789456S\n",
      "        - **Baseband Type:** DUX3463\n",
      "        - **CM Profile:** 7890123455.prf\n",
      "        - **Site Manager:**\n",
      "            - **Name:** Avi Kothari\n",
      "            - **Email ID:** avi@pipable.ai\n",
      "            - **Slack Member ID:** U05TYQ9D17S\n",
      "        \n"
     ]
    }
   ],
   "source": [
    "res = file_report(incident_id=\"INC0010003\")\n",
    "print(res)"
   ]
  },
  {
   "cell_type": "code",
   "execution_count": 9,
   "metadata": {},
   "outputs": [
    {
     "name": "stdout",
     "output_type": "stream",
     "text": [
      "Connected to the database.\n",
      "Disconnected from the database.\n",
      "Successfully closed the ticket for incident INC0010003. Details: Baseband replacement\n"
     ]
    }
   ],
   "source": [
    "res = close_ticket(incident_id=\"INC0010003\")\n",
    "print(res)"
   ]
  }
 ],
 "metadata": {
  "kernelspec": {
   "display_name": "Python 3",
   "language": "python",
   "name": "python3"
  },
  "language_info": {
   "codemirror_mode": {
    "name": "ipython",
    "version": 3
   },
   "file_extension": ".py",
   "mimetype": "text/x-python",
   "name": "python",
   "nbconvert_exporter": "python",
   "pygments_lexer": "ipython3",
   "version": "3.10.13"
  }
 },
 "nbformat": 4,
 "nbformat_minor": 2
}
